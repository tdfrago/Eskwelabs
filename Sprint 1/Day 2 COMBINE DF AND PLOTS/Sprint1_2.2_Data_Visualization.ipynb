{
 "cells": [
  {
   "cell_type": "markdown",
   "metadata": {},
   "source": [
    "# Creating Basic Visualization in Python"
   ]
  },
  {
   "cell_type": "code",
   "execution_count": 1,
   "metadata": {
    "ExecuteTime": {
     "end_time": "2021-01-06T17:44:47.941345Z",
     "start_time": "2021-01-06T17:44:46.095656Z"
    }
   },
   "outputs": [],
   "source": [
    "import pandas as pd\n",
    "import numpy as np\n",
    "import matplotlib.pyplot as plt"
   ]
  },
  {
   "cell_type": "code",
   "execution_count": 2,
   "metadata": {
    "ExecuteTime": {
     "end_time": "2021-01-06T20:06:50.821944Z",
     "start_time": "2021-01-06T20:06:50.107512Z"
    }
   },
   "outputs": [
    {
     "name": "stderr",
     "output_type": "stream",
     "text": [
      "/opt/anaconda3/lib/python3.7/site-packages/IPython/core/interactiveshell.py:3058: DtypeWarning: Columns (10,11) have mixed types. Specify dtype option on import or set low_memory=False.\n",
      "  interactivity=interactivity, compiler=compiler, result=result)\n"
     ]
    }
   ],
   "source": [
    "df = pd.read_csv(\"schools_combined.csv\")"
   ]
  },
  {
   "cell_type": "code",
   "execution_count": 3,
   "metadata": {
    "ExecuteTime": {
     "end_time": "2021-01-06T20:06:50.910236Z",
     "start_time": "2021-01-06T20:06:50.826516Z"
    }
   },
   "outputs": [
    {
     "data": {
      "text/html": [
       "<div>\n",
       "<style scoped>\n",
       "    .dataframe tbody tr th:only-of-type {\n",
       "        vertical-align: middle;\n",
       "    }\n",
       "\n",
       "    .dataframe tbody tr th {\n",
       "        vertical-align: top;\n",
       "    }\n",
       "\n",
       "    .dataframe thead th {\n",
       "        text-align: right;\n",
       "    }\n",
       "</style>\n",
       "<table border=\"1\" class=\"dataframe\">\n",
       "  <thead>\n",
       "    <tr style=\"text-align: right;\">\n",
       "      <th></th>\n",
       "      <th>Unnamed: 0</th>\n",
       "      <th>region</th>\n",
       "      <th>province</th>\n",
       "      <th>municipality</th>\n",
       "      <th>division</th>\n",
       "      <th>school_id</th>\n",
       "      <th>school_name</th>\n",
       "      <th>year_level</th>\n",
       "      <th>gender</th>\n",
       "      <th>enrollment</th>\n",
       "      <th>latitude</th>\n",
       "      <th>longitude</th>\n",
       "      <th>ID</th>\n",
       "      <th>Total_Enro</th>\n",
       "      <th>Total_Inst</th>\n",
       "      <th>Rooms_used</th>\n",
       "      <th>Rooms_unused</th>\n",
       "      <th>Type_of_Sc</th>\n",
       "    </tr>\n",
       "  </thead>\n",
       "  <tbody>\n",
       "    <tr>\n",
       "      <td>0</td>\n",
       "      <td>0</td>\n",
       "      <td>Region I - Ilocos Region</td>\n",
       "      <td>Ilocos Norte</td>\n",
       "      <td>Bacarra</td>\n",
       "      <td>Ilocos Norte</td>\n",
       "      <td>100002</td>\n",
       "      <td>Bacarra CES</td>\n",
       "      <td>grade 1</td>\n",
       "      <td>male</td>\n",
       "      <td>41</td>\n",
       "      <td>18.25096389</td>\n",
       "      <td>120.6089583</td>\n",
       "      <td>100002</td>\n",
       "      <td>318</td>\n",
       "      <td>16</td>\n",
       "      <td>12.0</td>\n",
       "      <td>0.0</td>\n",
       "      <td>School with no Annexes</td>\n",
       "    </tr>\n",
       "    <tr>\n",
       "      <td>1</td>\n",
       "      <td>1</td>\n",
       "      <td>Region I - Ilocos Region</td>\n",
       "      <td>Ilocos Norte</td>\n",
       "      <td>Bacarra</td>\n",
       "      <td>Ilocos Norte</td>\n",
       "      <td>100002</td>\n",
       "      <td>Bacarra CES</td>\n",
       "      <td>grade 1</td>\n",
       "      <td>female</td>\n",
       "      <td>30</td>\n",
       "      <td>18.25096389</td>\n",
       "      <td>120.6089583</td>\n",
       "      <td>100002</td>\n",
       "      <td>318</td>\n",
       "      <td>16</td>\n",
       "      <td>12.0</td>\n",
       "      <td>0.0</td>\n",
       "      <td>School with no Annexes</td>\n",
       "    </tr>\n",
       "    <tr>\n",
       "      <td>2</td>\n",
       "      <td>2</td>\n",
       "      <td>Region I - Ilocos Region</td>\n",
       "      <td>Ilocos Norte</td>\n",
       "      <td>Bacarra</td>\n",
       "      <td>Ilocos Norte</td>\n",
       "      <td>100002</td>\n",
       "      <td>Bacarra CES</td>\n",
       "      <td>grade 2</td>\n",
       "      <td>male</td>\n",
       "      <td>37</td>\n",
       "      <td>18.25096389</td>\n",
       "      <td>120.6089583</td>\n",
       "      <td>100002</td>\n",
       "      <td>318</td>\n",
       "      <td>16</td>\n",
       "      <td>12.0</td>\n",
       "      <td>0.0</td>\n",
       "      <td>School with no Annexes</td>\n",
       "    </tr>\n",
       "    <tr>\n",
       "      <td>3</td>\n",
       "      <td>3</td>\n",
       "      <td>Region I - Ilocos Region</td>\n",
       "      <td>Ilocos Norte</td>\n",
       "      <td>Bacarra</td>\n",
       "      <td>Ilocos Norte</td>\n",
       "      <td>100002</td>\n",
       "      <td>Bacarra CES</td>\n",
       "      <td>grade 2</td>\n",
       "      <td>female</td>\n",
       "      <td>38</td>\n",
       "      <td>18.25096389</td>\n",
       "      <td>120.6089583</td>\n",
       "      <td>100002</td>\n",
       "      <td>318</td>\n",
       "      <td>16</td>\n",
       "      <td>12.0</td>\n",
       "      <td>0.0</td>\n",
       "      <td>School with no Annexes</td>\n",
       "    </tr>\n",
       "    <tr>\n",
       "      <td>4</td>\n",
       "      <td>4</td>\n",
       "      <td>Region I - Ilocos Region</td>\n",
       "      <td>Ilocos Norte</td>\n",
       "      <td>Bacarra</td>\n",
       "      <td>Ilocos Norte</td>\n",
       "      <td>100002</td>\n",
       "      <td>Bacarra CES</td>\n",
       "      <td>grade 3</td>\n",
       "      <td>male</td>\n",
       "      <td>41</td>\n",
       "      <td>18.25096389</td>\n",
       "      <td>120.6089583</td>\n",
       "      <td>100002</td>\n",
       "      <td>318</td>\n",
       "      <td>16</td>\n",
       "      <td>12.0</td>\n",
       "      <td>0.0</td>\n",
       "      <td>School with no Annexes</td>\n",
       "    </tr>\n",
       "  </tbody>\n",
       "</table>\n",
       "</div>"
      ],
      "text/plain": [
       "   Unnamed: 0                    region      province municipality  \\\n",
       "0           0  Region I - Ilocos Region  Ilocos Norte      Bacarra   \n",
       "1           1  Region I - Ilocos Region  Ilocos Norte      Bacarra   \n",
       "2           2  Region I - Ilocos Region  Ilocos Norte      Bacarra   \n",
       "3           3  Region I - Ilocos Region  Ilocos Norte      Bacarra   \n",
       "4           4  Region I - Ilocos Region  Ilocos Norte      Bacarra   \n",
       "\n",
       "       division  school_id  school_name year_level  gender  enrollment  \\\n",
       "0  Ilocos Norte     100002  Bacarra CES    grade 1    male          41   \n",
       "1  Ilocos Norte     100002  Bacarra CES    grade 1  female          30   \n",
       "2  Ilocos Norte     100002  Bacarra CES    grade 2    male          37   \n",
       "3  Ilocos Norte     100002  Bacarra CES    grade 2  female          38   \n",
       "4  Ilocos Norte     100002  Bacarra CES    grade 3    male          41   \n",
       "\n",
       "      latitude    longitude      ID  Total_Enro  Total_Inst  Rooms_used  \\\n",
       "0  18.25096389  120.6089583  100002         318          16        12.0   \n",
       "1  18.25096389  120.6089583  100002         318          16        12.0   \n",
       "2  18.25096389  120.6089583  100002         318          16        12.0   \n",
       "3  18.25096389  120.6089583  100002         318          16        12.0   \n",
       "4  18.25096389  120.6089583  100002         318          16        12.0   \n",
       "\n",
       "   Rooms_unused              Type_of_Sc  \n",
       "0           0.0  School with no Annexes  \n",
       "1           0.0  School with no Annexes  \n",
       "2           0.0  School with no Annexes  \n",
       "3           0.0  School with no Annexes  \n",
       "4           0.0  School with no Annexes  "
      ]
     },
     "execution_count": 3,
     "metadata": {},
     "output_type": "execute_result"
    }
   ],
   "source": [
    "df.head()"
   ]
  },
  {
   "cell_type": "code",
   "execution_count": 4,
   "metadata": {
    "ExecuteTime": {
     "end_time": "2021-01-06T20:06:52.757459Z",
     "start_time": "2021-01-06T20:06:52.724060Z"
    }
   },
   "outputs": [
    {
     "data": {
      "text/plain": [
       "year_level\n",
       "first year     817414\n",
       "fourth year    626902\n",
       "grade 1        792898\n",
       "grade 2        824246\n",
       "grade 3        844424\n",
       "grade 4        920665\n",
       "grade 5        846376\n",
       "grade 6        777489\n",
       "second year    764328\n",
       "third year     710006\n",
       "Name: enrollment, dtype: int64"
      ]
     },
     "execution_count": 4,
     "metadata": {},
     "output_type": "execute_result"
    }
   ],
   "source": [
    "grade_level = df.groupby(\"year_level\")[\"enrollment\"].sum()\n",
    "grade_level"
   ]
  },
  {
   "cell_type": "markdown",
   "metadata": {},
   "source": [
    "## A. Quick plot using pandas\n",
    "\n",
    "The easiest way to create a graph is by simply adding `.plot` to the data you want to visualize. You can customize this further by adding arguments inside the parenthesis.\n",
    "\n",
    "Here, we have a simple bar graph."
   ]
  },
  {
   "cell_type": "code",
   "execution_count": 5,
   "metadata": {
    "ExecuteTime": {
     "end_time": "2021-01-06T20:06:53.715167Z",
     "start_time": "2021-01-06T20:06:53.397867Z"
    }
   },
   "outputs": [],
   "source": [
    "# Plotting using .plot"
   ]
  },
  {
   "cell_type": "markdown",
   "metadata": {},
   "source": [
    "## B. Plotting with Matplotlib\n",
    "\n",
    "When using `.plot`, the features you can customize is limited. A better tool to be able to customize your graphs is by using **Matplotlib**. \n",
    "\n",
    "- **Matplotlib** is a python 2D plotting library built on the top of the basic Python language and Numpy.\n",
    "\n",
    "Let's begin by discussing the parts of a graph."
   ]
  },
  {
   "cell_type": "markdown",
   "metadata": {},
   "source": [
    "<img src='https://matplotlib.org/3.3.3/_images/anatomy.png'>"
   ]
  },
  {
   "cell_type": "markdown",
   "metadata": {},
   "source": [
    "### 1. Bar Graph"
   ]
  },
  {
   "cell_type": "code",
   "execution_count": 6,
   "metadata": {
    "ExecuteTime": {
     "end_time": "2021-01-06T20:06:57.729811Z",
     "start_time": "2021-01-06T20:06:57.466348Z"
    }
   },
   "outputs": [
    {
     "data": {
      "image/png": "[encoded data removed]",
      "text/plain": [
       "<Figure size 576x432 with 1 Axes>"
      ]
     },
     "metadata": {
      "needs_background": "light"
     },
     "output_type": "display_data"
    }
   ],
   "source": [
    "# indicates if plotting on the figues or on subplots\n",
    "plt.figure(figsize=(8,6)) \n",
    "\n",
    "# the main code to create the graph\n",
    "plt.bar(grade_level.index, grade_level.values) \n",
    "\n",
    "# additional elements that can be customzed\n",
    "plt.title(\"Students in Public Schools\", fontsize=16)\n",
    "plt.ylabel(\"Number of Enrollees\", fontsize=12)\n",
    "plt.xlabel(\"Year Level\", fontsize=12)\n",
    "year = [\"grade 1\",\"grade 2\", \"grade 3\", \"grade 4\", \"grade 5\", \"grade 6\",\n",
    "        \"first year\", \"second year\", \"third year\", \"fourth year\"]\n",
    "plt.xticks(range(len(grade_level.index)), year, rotation=45)\n",
    "\n",
    "# display graph\n",
    "plt.show()"
   ]
  },
  {
   "cell_type": "markdown",
   "metadata": {},
   "source": [
    "Unlike our first example, we can add more features to matplotlib. Here we added titles and axis labels to improve the graph. We also ordered the year level to be more logical."
   ]
  },
  {
   "cell_type": "code",
   "execution_count": 7,
   "metadata": {},
   "outputs": [],
   "source": [
    "# Can you try making a bar graph of count of male and female students?\n"
   ]
  },
  {
   "cell_type": "markdown",
   "metadata": {},
   "source": [
    "### 2. Histograms"
   ]
  },
  {
   "cell_type": "code",
   "execution_count": 8,
   "metadata": {
    "ExecuteTime": {
     "end_time": "2021-01-06T20:07:13.936082Z",
     "start_time": "2021-01-06T20:07:12.896930Z"
    }
   },
   "outputs": [
    {
     "name": "stderr",
     "output_type": "stream",
     "text": [
      "/opt/anaconda3/lib/python3.7/site-packages/numpy/lib/histograms.py:829: RuntimeWarning: invalid value encountered in greater_equal\n",
      "  keep = (tmp_a >= first_edge)\n",
      "/opt/anaconda3/lib/python3.7/site-packages/numpy/lib/histograms.py:830: RuntimeWarning: invalid value encountered in less_equal\n",
      "  keep &= (tmp_a <= last_edge)\n"
     ]
    },
    {
     "data": {
      "image/png": "[encoded data removed]",
      "text/plain": [
       "<Figure size 576x432 with 1 Axes>"
      ]
     },
     "metadata": {
      "needs_background": "light"
     },
     "output_type": "display_data"
    }
   ],
   "source": [
    "df[\"student_teacher\"] = df[\"enrollment\"]/df[\"Total_Inst\"]\n",
    "df = df.replace([np.inf, -np.inf], np.nan)\n",
    "\n",
    "plt.figure(figsize=(8,6))\n",
    "plt.hist(df[\"student_teacher\"])\n",
    "plt.title(\"Distribution of Student-Teacher Ratio\", fontsize=14)\n",
    "plt.xlabel(\"Student-Teacher Ratio\")\n",
    "plt.show()"
   ]
  },
  {
   "cell_type": "code",
   "execution_count": 9,
   "metadata": {},
   "outputs": [],
   "source": [
    "# Can you try making a histogtam of number of teachers?\n"
   ]
  },
  {
   "cell_type": "markdown",
   "metadata": {},
   "source": [
    "### 3. Scatterplot"
   ]
  },
  {
   "cell_type": "code",
   "execution_count": 10,
   "metadata": {
    "ExecuteTime": {
     "end_time": "2021-01-06T20:07:19.714451Z",
     "start_time": "2021-01-06T20:07:17.659843Z"
    }
   },
   "outputs": [
    {
     "data": {
      "image/png": "[encoded data removed]",
      "text/plain": [
       "<Figure size 576x432 with 1 Axes>"
      ]
     },
     "metadata": {
      "needs_background": "light"
     },
     "output_type": "display_data"
    }
   ],
   "source": [
    "plt.figure(figsize=(8,6))\n",
    "plt.scatter(df[\"enrollment\"], df[\"Total_Inst\"])\n",
    "plt.title(\"Teachers vs Students\", fontsize=14)\n",
    "plt.ylabel(\"Number of Teachers\")\n",
    "plt.xlabel(\"Number of Students\")\n",
    "plt.show()"
   ]
  },
  {
   "cell_type": "markdown",
   "metadata": {},
   "source": [
    "### 4. Pie Chart"
   ]
  },
  {
   "cell_type": "code",
   "execution_count": 11,
   "metadata": {
    "ExecuteTime": {
     "end_time": "2021-01-06T20:14:01.570013Z",
     "start_time": "2021-01-06T20:14:01.426372Z"
    }
   },
   "outputs": [
    {
     "data": {
      "image/png": "[encoded data removed]",
      "text/plain": [
       "<Figure size 432x432 with 1 Axes>"
      ]
     },
     "metadata": {},
     "output_type": "display_data"
    }
   ],
   "source": [
    "gender = df.groupby(\"gender\")[\"enrollment\"].sum()\n",
    "\n",
    "plt.figure(figsize=(6,6))\n",
    "plt.pie(gender, labels=[\"female\",\"male\"], autopct='%1.1f%%', startangle=90)\n",
    "plt.title(\"Comparison of Gender in Public Schools\", fontsize=14)\n",
    "plt.show()\n"
   ]
  },
  {
   "cell_type": "code",
   "execution_count": 12,
   "metadata": {},
   "outputs": [],
   "source": [
    "# Can you make a pie chart for type of school (Type_of_Sc)?\n"
   ]
  },
  {
   "cell_type": "markdown",
   "metadata": {},
   "source": [
    "### 5. Creating Multiple Subplots in One Figure\n",
    "\n",
    "- To create multiple plots, you need to set the number of subplots and identify the the axes."
   ]
  },
  {
   "cell_type": "code",
   "execution_count": 13,
   "metadata": {
    "ExecuteTime": {
     "end_time": "2021-01-06T20:31:28.468580Z",
     "start_time": "2021-01-06T20:31:26.624917Z"
    }
   },
   "outputs": [
    {
     "data": {
      "image/png": "[encoded data removed]",
      "text/plain": [
       "<Figure size 576x576 with 4 Axes>"
      ]
     },
     "metadata": {
      "needs_background": "light"
     },
     "output_type": "display_data"
    }
   ],
   "source": [
    "fig, axes = plt.subplots(nrows=2, ncols=2, figsize=(8,8),  constrained_layout=True)\n",
    "\n",
    "first_year = df[df[\"year_level\"]==\"first year\"]\n",
    "second_year = df[df[\"year_level\"]==\"second year\"]\n",
    "third_year = df[df[\"year_level\"]==\"third year\"]\n",
    "fourth_year = df[df[\"year_level\"]==\"fourth year\"]\n",
    "\n",
    "axes[0,0].hist(first_year[\"student_teacher\"]) \n",
    "axes[0,0].set_title(\"AX[0,0] - 1st Year\")\n",
    "axes[0,1].hist(second_year[\"student_teacher\"]) \n",
    "axes[0,1].set_title('AX[0,1] - 2nd Year')\n",
    "axes[1,0].hist(third_year[\"student_teacher\"]) \n",
    "axes[1,0].set_title('AX[1,0] - 3rd Year')\n",
    "axes[1,1].hist(fourth_year[\"student_teacher\"]) \n",
    "axes[1,1].set_title('AX[1,1] - 4th Year')\n",
    "\n",
    "fig.suptitle('Distribution of Student-Teacher Ratio in High School', fontsize=16)\n",
    "plt.show()"
   ]
  },
  {
   "cell_type": "code",
   "execution_count": null,
   "metadata": {},
   "outputs": [],
   "source": []
  }
 ],
 "metadata": {
  "kernelspec": {
   "display_name": "Python 3",
   "language": "python",
   "name": "python3"
  },
  "language_info": {
   "codemirror_mode": {
    "name": "ipython",
    "version": 3
   },
   "file_extension": ".py",
   "mimetype": "text/x-python",
   "name": "python",
   "nbconvert_exporter": "python",
   "pygments_lexer": "ipython3",
   "version": "3.7.4"
  }
 },
 "nbformat": 4,
 "nbformat_minor": 2
}
