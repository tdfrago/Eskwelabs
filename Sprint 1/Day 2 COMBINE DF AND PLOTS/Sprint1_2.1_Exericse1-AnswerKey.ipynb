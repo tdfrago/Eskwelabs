{
 "cells": [
  {
   "cell_type": "markdown",
   "metadata": {},
   "source": [
    "# Group Exercise"
   ]
  },
  {
   "cell_type": "markdown",
   "metadata": {},
   "source": [
    "In this activity, there all 12 questions prepared with varying levels of difficulty. Your task is to answer as many as you can AS A GROUP. Each question is independent of one another. Delegate and strategize on how you will answer the most number of questions. **Good luck! :)**"
   ]
  },
  {
   "cell_type": "markdown",
   "metadata": {},
   "source": [
    "#### First, setup the data"
   ]
  },
  {
   "cell_type": "code",
   "execution_count": 7,
   "metadata": {},
   "outputs": [],
   "source": [
    "import pandas as pd\n",
    "import numpy as np\n",
    "import matplotlib.pyplot as plt"
   ]
  },
  {
   "cell_type": "code",
   "execution_count": 8,
   "metadata": {},
   "outputs": [
    {
     "name": "stderr",
     "output_type": "stream",
     "text": [
      "/opt/anaconda3/lib/python3.7/site-packages/IPython/core/interactiveshell.py:3058: DtypeWarning: Columns (10,11) have mixed types. Specify dtype option on import or set low_memory=False.\n",
      "  interactivity=interactivity, compiler=compiler, result=result)\n"
     ]
    }
   ],
   "source": [
    "schools = pd.read_csv(\"schools_combined.csv\")"
   ]
  },
  {
   "cell_type": "code",
   "execution_count": 9,
   "metadata": {},
   "outputs": [
    {
     "data": {
      "text/html": [
       "<div>\n",
       "<style scoped>\n",
       "    .dataframe tbody tr th:only-of-type {\n",
       "        vertical-align: middle;\n",
       "    }\n",
       "\n",
       "    .dataframe tbody tr th {\n",
       "        vertical-align: top;\n",
       "    }\n",
       "\n",
       "    .dataframe thead th {\n",
       "        text-align: right;\n",
       "    }\n",
       "</style>\n",
       "<table border=\"1\" class=\"dataframe\">\n",
       "  <thead>\n",
       "    <tr style=\"text-align: right;\">\n",
       "      <th></th>\n",
       "      <th>Unnamed: 0</th>\n",
       "      <th>region</th>\n",
       "      <th>province</th>\n",
       "      <th>municipality</th>\n",
       "      <th>division</th>\n",
       "      <th>school_id</th>\n",
       "      <th>school_name</th>\n",
       "      <th>year_level</th>\n",
       "      <th>gender</th>\n",
       "      <th>enrollment</th>\n",
       "      <th>latitude</th>\n",
       "      <th>longitude</th>\n",
       "      <th>ID</th>\n",
       "      <th>Total_Inst</th>\n",
       "      <th>Rooms_used</th>\n",
       "      <th>Rooms_unused</th>\n",
       "      <th>Type_of_Sc</th>\n",
       "    </tr>\n",
       "  </thead>\n",
       "  <tbody>\n",
       "    <tr>\n",
       "      <td>0</td>\n",
       "      <td>0</td>\n",
       "      <td>Region I - Ilocos Region</td>\n",
       "      <td>Ilocos Norte</td>\n",
       "      <td>Bacarra</td>\n",
       "      <td>Ilocos Norte</td>\n",
       "      <td>100002</td>\n",
       "      <td>Bacarra CES</td>\n",
       "      <td>grade 1</td>\n",
       "      <td>male</td>\n",
       "      <td>41</td>\n",
       "      <td>18.25096389</td>\n",
       "      <td>120.6089583</td>\n",
       "      <td>100002</td>\n",
       "      <td>16</td>\n",
       "      <td>12.0</td>\n",
       "      <td>0.0</td>\n",
       "      <td>School with no Annexes</td>\n",
       "    </tr>\n",
       "    <tr>\n",
       "      <td>1</td>\n",
       "      <td>1</td>\n",
       "      <td>Region I - Ilocos Region</td>\n",
       "      <td>Ilocos Norte</td>\n",
       "      <td>Bacarra</td>\n",
       "      <td>Ilocos Norte</td>\n",
       "      <td>100002</td>\n",
       "      <td>Bacarra CES</td>\n",
       "      <td>grade 1</td>\n",
       "      <td>female</td>\n",
       "      <td>30</td>\n",
       "      <td>18.25096389</td>\n",
       "      <td>120.6089583</td>\n",
       "      <td>100002</td>\n",
       "      <td>16</td>\n",
       "      <td>12.0</td>\n",
       "      <td>0.0</td>\n",
       "      <td>School with no Annexes</td>\n",
       "    </tr>\n",
       "    <tr>\n",
       "      <td>2</td>\n",
       "      <td>2</td>\n",
       "      <td>Region I - Ilocos Region</td>\n",
       "      <td>Ilocos Norte</td>\n",
       "      <td>Bacarra</td>\n",
       "      <td>Ilocos Norte</td>\n",
       "      <td>100002</td>\n",
       "      <td>Bacarra CES</td>\n",
       "      <td>grade 2</td>\n",
       "      <td>male</td>\n",
       "      <td>37</td>\n",
       "      <td>18.25096389</td>\n",
       "      <td>120.6089583</td>\n",
       "      <td>100002</td>\n",
       "      <td>16</td>\n",
       "      <td>12.0</td>\n",
       "      <td>0.0</td>\n",
       "      <td>School with no Annexes</td>\n",
       "    </tr>\n",
       "    <tr>\n",
       "      <td>3</td>\n",
       "      <td>3</td>\n",
       "      <td>Region I - Ilocos Region</td>\n",
       "      <td>Ilocos Norte</td>\n",
       "      <td>Bacarra</td>\n",
       "      <td>Ilocos Norte</td>\n",
       "      <td>100002</td>\n",
       "      <td>Bacarra CES</td>\n",
       "      <td>grade 2</td>\n",
       "      <td>female</td>\n",
       "      <td>38</td>\n",
       "      <td>18.25096389</td>\n",
       "      <td>120.6089583</td>\n",
       "      <td>100002</td>\n",
       "      <td>16</td>\n",
       "      <td>12.0</td>\n",
       "      <td>0.0</td>\n",
       "      <td>School with no Annexes</td>\n",
       "    </tr>\n",
       "    <tr>\n",
       "      <td>4</td>\n",
       "      <td>4</td>\n",
       "      <td>Region I - Ilocos Region</td>\n",
       "      <td>Ilocos Norte</td>\n",
       "      <td>Bacarra</td>\n",
       "      <td>Ilocos Norte</td>\n",
       "      <td>100002</td>\n",
       "      <td>Bacarra CES</td>\n",
       "      <td>grade 3</td>\n",
       "      <td>male</td>\n",
       "      <td>41</td>\n",
       "      <td>18.25096389</td>\n",
       "      <td>120.6089583</td>\n",
       "      <td>100002</td>\n",
       "      <td>16</td>\n",
       "      <td>12.0</td>\n",
       "      <td>0.0</td>\n",
       "      <td>School with no Annexes</td>\n",
       "    </tr>\n",
       "  </tbody>\n",
       "</table>\n",
       "</div>"
      ],
      "text/plain": [
       "   Unnamed: 0                    region      province municipality  \\\n",
       "0           0  Region I - Ilocos Region  Ilocos Norte      Bacarra   \n",
       "1           1  Region I - Ilocos Region  Ilocos Norte      Bacarra   \n",
       "2           2  Region I - Ilocos Region  Ilocos Norte      Bacarra   \n",
       "3           3  Region I - Ilocos Region  Ilocos Norte      Bacarra   \n",
       "4           4  Region I - Ilocos Region  Ilocos Norte      Bacarra   \n",
       "\n",
       "       division  school_id  school_name year_level  gender  enrollment  \\\n",
       "0  Ilocos Norte     100002  Bacarra CES    grade 1    male          41   \n",
       "1  Ilocos Norte     100002  Bacarra CES    grade 1  female          30   \n",
       "2  Ilocos Norte     100002  Bacarra CES    grade 2    male          37   \n",
       "3  Ilocos Norte     100002  Bacarra CES    grade 2  female          38   \n",
       "4  Ilocos Norte     100002  Bacarra CES    grade 3    male          41   \n",
       "\n",
       "      latitude    longitude      ID  Total_Inst  Rooms_used  Rooms_unused  \\\n",
       "0  18.25096389  120.6089583  100002          16        12.0           0.0   \n",
       "1  18.25096389  120.6089583  100002          16        12.0           0.0   \n",
       "2  18.25096389  120.6089583  100002          16        12.0           0.0   \n",
       "3  18.25096389  120.6089583  100002          16        12.0           0.0   \n",
       "4  18.25096389  120.6089583  100002          16        12.0           0.0   \n",
       "\n",
       "               Type_of_Sc  \n",
       "0  School with no Annexes  \n",
       "1  School with no Annexes  \n",
       "2  School with no Annexes  \n",
       "3  School with no Annexes  \n",
       "4  School with no Annexes  "
      ]
     },
     "execution_count": 9,
     "metadata": {},
     "output_type": "execute_result"
    }
   ],
   "source": [
    "schools.head()"
   ]
  },
  {
   "cell_type": "markdown",
   "metadata": {},
   "source": [
    "#### Before proceeding with the questions, check first with your groupmates if you all have the correct dataframe."
   ]
  },
  {
   "cell_type": "markdown",
   "metadata": {},
   "source": [
    "1. What is the size of the dataframe?"
   ]
  },
  {
   "cell_type": "code",
   "execution_count": 10,
   "metadata": {},
   "outputs": [
    {
     "data": {
      "text/plain": [
       "(159744, 17)"
      ]
     },
     "execution_count": 10,
     "metadata": {},
     "output_type": "execute_result"
    }
   ],
   "source": [
    "schools.shape"
   ]
  },
  {
   "cell_type": "markdown",
   "metadata": {},
   "source": [
    "2. What are the columns?"
   ]
  },
  {
   "cell_type": "code",
   "execution_count": 11,
   "metadata": {},
   "outputs": [
    {
     "ename": "AttributeError",
     "evalue": "'DataFrame' object has no attribute 'column'",
     "output_type": "error",
     "traceback": [
      "\u001b[0;31m---------------------------------------------------------------------------\u001b[0m",
      "\u001b[0;31mAttributeError\u001b[0m                            Traceback (most recent call last)",
      "\u001b[0;32m<ipython-input-11-aab341b2f25f>\u001b[0m in \u001b[0;36m<module>\u001b[0;34m\u001b[0m\n\u001b[0;32m----> 1\u001b[0;31m \u001b[0mschools\u001b[0m\u001b[0;34m.\u001b[0m\u001b[0mcolumn\u001b[0m\u001b[0;34m\u001b[0m\u001b[0;34m\u001b[0m\u001b[0m\n\u001b[0m",
      "\u001b[0;32m/opt/anaconda3/lib/python3.7/site-packages/pandas/core/generic.py\u001b[0m in \u001b[0;36m__getattr__\u001b[0;34m(self, name)\u001b[0m\n\u001b[1;32m   5177\u001b[0m             \u001b[0;32mif\u001b[0m \u001b[0mself\u001b[0m\u001b[0;34m.\u001b[0m\u001b[0m_info_axis\u001b[0m\u001b[0;34m.\u001b[0m\u001b[0m_can_hold_identifiers_and_holds_name\u001b[0m\u001b[0;34m(\u001b[0m\u001b[0mname\u001b[0m\u001b[0;34m)\u001b[0m\u001b[0;34m:\u001b[0m\u001b[0;34m\u001b[0m\u001b[0;34m\u001b[0m\u001b[0m\n\u001b[1;32m   5178\u001b[0m                 \u001b[0;32mreturn\u001b[0m \u001b[0mself\u001b[0m\u001b[0;34m[\u001b[0m\u001b[0mname\u001b[0m\u001b[0;34m]\u001b[0m\u001b[0;34m\u001b[0m\u001b[0;34m\u001b[0m\u001b[0m\n\u001b[0;32m-> 5179\u001b[0;31m             \u001b[0;32mreturn\u001b[0m \u001b[0mobject\u001b[0m\u001b[0;34m.\u001b[0m\u001b[0m__getattribute__\u001b[0m\u001b[0;34m(\u001b[0m\u001b[0mself\u001b[0m\u001b[0;34m,\u001b[0m \u001b[0mname\u001b[0m\u001b[0;34m)\u001b[0m\u001b[0;34m\u001b[0m\u001b[0;34m\u001b[0m\u001b[0m\n\u001b[0m\u001b[1;32m   5180\u001b[0m \u001b[0;34m\u001b[0m\u001b[0m\n\u001b[1;32m   5181\u001b[0m     \u001b[0;32mdef\u001b[0m \u001b[0m__setattr__\u001b[0m\u001b[0;34m(\u001b[0m\u001b[0mself\u001b[0m\u001b[0;34m,\u001b[0m \u001b[0mname\u001b[0m\u001b[0;34m,\u001b[0m \u001b[0mvalue\u001b[0m\u001b[0;34m)\u001b[0m\u001b[0;34m:\u001b[0m\u001b[0;34m\u001b[0m\u001b[0;34m\u001b[0m\u001b[0m\n",
      "\u001b[0;31mAttributeError\u001b[0m: 'DataFrame' object has no attribute 'column'"
     ]
    }
   ],
   "source": [
    "schools.column"
   ]
  },
  {
   "cell_type": "markdown",
   "metadata": {},
   "source": [
    "3. How many schools are there?"
   ]
  },
  {
   "cell_type": "code",
   "execution_count": 12,
   "metadata": {},
   "outputs": [
    {
     "data": {
      "text/plain": [
       "14003"
      ]
     },
     "execution_count": 12,
     "metadata": {},
     "output_type": "execute_result"
    }
   ],
   "source": [
    "schools.school_id.nunique()"
   ]
  },
  {
   "cell_type": "markdown",
   "metadata": {},
   "source": [
    "4. How many missing values are there?"
   ]
  },
  {
   "cell_type": "code",
   "execution_count": 13,
   "metadata": {},
   "outputs": [
    {
     "data": {
      "text/plain": [
       "Unnamed: 0       0\n",
       "region           0\n",
       "province         0\n",
       "municipality     0\n",
       "division         0\n",
       "school_id        0\n",
       "school_name      0\n",
       "year_level       0\n",
       "gender           0\n",
       "enrollment       0\n",
       "latitude         0\n",
       "longitude        0\n",
       "ID               0\n",
       "Total_Inst       0\n",
       "Rooms_used      12\n",
       "Rooms_unused    12\n",
       "Type_of_Sc       0\n",
       "dtype: int64"
      ]
     },
     "execution_count": 13,
     "metadata": {},
     "output_type": "execute_result"
    }
   ],
   "source": [
    "schools.isna().sum()"
   ]
  },
  {
   "cell_type": "markdown",
   "metadata": {},
   "source": [
    "Alright! Get started!"
   ]
  },
  {
   "cell_type": "markdown",
   "metadata": {},
   "source": [
    "## Exercise"
   ]
  },
  {
   "cell_type": "markdown",
   "metadata": {},
   "source": [
    "***Easy***"
   ]
  },
  {
   "cell_type": "markdown",
   "metadata": {},
   "source": [
    "1. Which has a greater number of overall enrollees: males or females?"
   ]
  },
  {
   "cell_type": "code",
   "execution_count": 15,
   "metadata": {},
   "outputs": [
    {
     "data": {
      "text/plain": [
       "gender\n",
       "female    3870769\n",
       "male      4053979\n",
       "Name: enrollment, dtype: int64"
      ]
     },
     "execution_count": 15,
     "metadata": {},
     "output_type": "execute_result"
    }
   ],
   "source": [
    "schools.groupby(\"gender\")[\"enrollment\"].sum()"
   ]
  },
  {
   "cell_type": "markdown",
   "metadata": {},
   "source": [
    "2. How many municiapalities are covered by the dataframe?"
   ]
  },
  {
   "cell_type": "code",
   "execution_count": 78,
   "metadata": {},
   "outputs": [
    {
     "data": {
      "text/plain": [
       "996"
      ]
     },
     "execution_count": 78,
     "metadata": {},
     "output_type": "execute_result"
    }
   ],
   "source": [
    "schools[\"municipality\"].nunique()"
   ]
  },
  {
   "cell_type": "markdown",
   "metadata": {},
   "source": [
    "3. Which year_level has the highest number of enrollees?"
   ]
  },
  {
   "cell_type": "code",
   "execution_count": 44,
   "metadata": {},
   "outputs": [
    {
     "data": {
      "text/plain": [
       "year_level\n",
       "first year     817414\n",
       "fourth year    626902\n",
       "grade 1        792898\n",
       "grade 2        824246\n",
       "grade 3        844424\n",
       "grade 4        920665\n",
       "grade 5        846376\n",
       "grade 6        777489\n",
       "second year    764328\n",
       "third year     710006\n",
       "Name: enrollment, dtype: int64"
      ]
     },
     "execution_count": 44,
     "metadata": {},
     "output_type": "execute_result"
    }
   ],
   "source": [
    "schools.groupby(\"year_level\")[\"enrollment\"].sum()"
   ]
  },
  {
   "cell_type": "markdown",
   "metadata": {},
   "source": [
    "4. Are school_id equal to school_name? What is the discrepancy"
   ]
  },
  {
   "cell_type": "code",
   "execution_count": 114,
   "metadata": {},
   "outputs": [
    {
     "data": {
      "text/plain": [
       "1988"
      ]
     },
     "execution_count": 114,
     "metadata": {},
     "output_type": "execute_result"
    }
   ],
   "source": [
    "schools[\"school_id\"].nunique() - schools[\"school_name\"].nunique()"
   ]
  },
  {
   "cell_type": "markdown",
   "metadata": {},
   "source": [
    "5. How many teachers are there overall?"
   ]
  },
  {
   "cell_type": "code",
   "execution_count": 125,
   "metadata": {
    "scrolled": true
   },
   "outputs": [
    {
     "data": {
      "text/plain": [
       "179044"
      ]
     },
     "execution_count": 125,
     "metadata": {},
     "output_type": "execute_result"
    }
   ],
   "source": [
    "schools.groupby(\"school_id\")[\"Total_Inst\"].min().sum()"
   ]
  },
  {
   "cell_type": "markdown",
   "metadata": {},
   "source": [
    "***Medium***"
   ]
  },
  {
   "cell_type": "markdown",
   "metadata": {},
   "source": [
    "6. Which province has the highest count of schools? How many is it?"
   ]
  },
  {
   "cell_type": "code",
   "execution_count": 33,
   "metadata": {},
   "outputs": [
    {
     "data": {
      "text/plain": [
       "province\n",
       "Leyte                  1241\n",
       "Pangasinan              834\n",
       "North Cotabato          708\n",
       "Negros Oriental         695\n",
       "Zamboanga Del Sur       694\n",
       "                       ... \n",
       "Quirino                   1\n",
       "Apayao                    1\n",
       "Sulu                      1\n",
       "Zamboanga Del Norte       1\n",
       "Abra                      1\n",
       "Name: school_id, Length: 81, dtype: int64"
      ]
     },
     "execution_count": 33,
     "metadata": {},
     "output_type": "execute_result"
    }
   ],
   "source": [
    "schools.groupby([\"province\"])[\"school_id\"].nunique().sort_values(ascending=False)"
   ]
  },
  {
   "cell_type": "markdown",
   "metadata": {},
   "source": [
    "7. How many provinces only has one school? Which provinces are these?"
   ]
  },
  {
   "cell_type": "code",
   "execution_count": 42,
   "metadata": {},
   "outputs": [
    {
     "data": {
      "text/html": [
       "<div>\n",
       "<style scoped>\n",
       "    .dataframe tbody tr th:only-of-type {\n",
       "        vertical-align: middle;\n",
       "    }\n",
       "\n",
       "    .dataframe tbody tr th {\n",
       "        vertical-align: top;\n",
       "    }\n",
       "\n",
       "    .dataframe thead th {\n",
       "        text-align: right;\n",
       "    }\n",
       "</style>\n",
       "<table border=\"1\" class=\"dataframe\">\n",
       "  <thead>\n",
       "    <tr style=\"text-align: right;\">\n",
       "      <th></th>\n",
       "      <th>school_id</th>\n",
       "    </tr>\n",
       "    <tr>\n",
       "      <th>province</th>\n",
       "      <th></th>\n",
       "    </tr>\n",
       "  </thead>\n",
       "  <tbody>\n",
       "    <tr>\n",
       "      <td>Abra</td>\n",
       "      <td>1</td>\n",
       "    </tr>\n",
       "    <tr>\n",
       "      <td>Zamboanga Del Norte</td>\n",
       "      <td>1</td>\n",
       "    </tr>\n",
       "    <tr>\n",
       "      <td>Sulu</td>\n",
       "      <td>1</td>\n",
       "    </tr>\n",
       "    <tr>\n",
       "      <td>Apayao</td>\n",
       "      <td>1</td>\n",
       "    </tr>\n",
       "    <tr>\n",
       "      <td>Quirino</td>\n",
       "      <td>1</td>\n",
       "    </tr>\n",
       "    <tr>\n",
       "      <td>Mountain Province</td>\n",
       "      <td>1</td>\n",
       "    </tr>\n",
       "    <tr>\n",
       "      <td>Dinagat Islands</td>\n",
       "      <td>3</td>\n",
       "    </tr>\n",
       "    <tr>\n",
       "      <td>Siquijor</td>\n",
       "      <td>4</td>\n",
       "    </tr>\n",
       "    <tr>\n",
       "      <td>Maguindanao</td>\n",
       "      <td>4</td>\n",
       "    </tr>\n",
       "    <tr>\n",
       "      <td>Misamis Occidental</td>\n",
       "      <td>8</td>\n",
       "    </tr>\n",
       "  </tbody>\n",
       "</table>\n",
       "</div>"
      ],
      "text/plain": [
       "                     school_id\n",
       "province                      \n",
       "Abra                         1\n",
       "Zamboanga Del Norte          1\n",
       "Sulu                         1\n",
       "Apayao                       1\n",
       "Quirino                      1\n",
       "Mountain Province            1\n",
       "Dinagat Islands              3\n",
       "Siquijor                     4\n",
       "Maguindanao                  4\n",
       "Misamis Occidental           8"
      ]
     },
     "execution_count": 42,
     "metadata": {},
     "output_type": "execute_result"
    }
   ],
   "source": [
    "schools.groupby([\"province\"])[\"school_id\"].nunique().to_frame().sort_values(by=\"school_id\").head(10)"
   ]
  },
  {
   "cell_type": "markdown",
   "metadata": {},
   "source": [
    "8. How many municipalities are there in ARMM?"
   ]
  },
  {
   "cell_type": "code",
   "execution_count": 71,
   "metadata": {},
   "outputs": [
    {
     "data": {
      "text/plain": [
       "23"
      ]
     },
     "execution_count": 71,
     "metadata": {},
     "output_type": "execute_result"
    }
   ],
   "source": [
    "schools[schools[\"region\"]==\"ARMM - Autonomous Region in Muslim Mindanao\"][\"municipality\"].nunique()"
   ]
  },
  {
   "cell_type": "markdown",
   "metadata": {},
   "source": [
    "9. Which school has the most number of rooms (used + unused)? - Medium"
   ]
  },
  {
   "cell_type": "code",
   "execution_count": 52,
   "metadata": {},
   "outputs": [
    {
     "data": {
      "text/html": [
       "<div>\n",
       "<style scoped>\n",
       "    .dataframe tbody tr th:only-of-type {\n",
       "        vertical-align: middle;\n",
       "    }\n",
       "\n",
       "    .dataframe tbody tr th {\n",
       "        vertical-align: top;\n",
       "    }\n",
       "\n",
       "    .dataframe thead th {\n",
       "        text-align: right;\n",
       "    }\n",
       "</style>\n",
       "<table border=\"1\" class=\"dataframe\">\n",
       "  <thead>\n",
       "    <tr style=\"text-align: right;\">\n",
       "      <th></th>\n",
       "      <th>Rooms_used</th>\n",
       "      <th>Rooms_unused</th>\n",
       "      <th>Rooms_all</th>\n",
       "    </tr>\n",
       "    <tr>\n",
       "      <th>school_id</th>\n",
       "      <th></th>\n",
       "      <th></th>\n",
       "      <th></th>\n",
       "    </tr>\n",
       "  </thead>\n",
       "  <tbody>\n",
       "    <tr>\n",
       "      <td>120590</td>\n",
       "      <td>0.0</td>\n",
       "      <td>0.0</td>\n",
       "      <td>0.0</td>\n",
       "    </tr>\n",
       "    <tr>\n",
       "      <td>130233</td>\n",
       "      <td>0.0</td>\n",
       "      <td>0.0</td>\n",
       "      <td>0.0</td>\n",
       "    </tr>\n",
       "    <tr>\n",
       "      <td>131871</td>\n",
       "      <td>0.0</td>\n",
       "      <td>0.0</td>\n",
       "      <td>0.0</td>\n",
       "    </tr>\n",
       "    <tr>\n",
       "      <td>128873</td>\n",
       "      <td>0.0</td>\n",
       "      <td>0.0</td>\n",
       "      <td>0.0</td>\n",
       "    </tr>\n",
       "    <tr>\n",
       "      <td>125289</td>\n",
       "      <td>0.0</td>\n",
       "      <td>0.0</td>\n",
       "      <td>0.0</td>\n",
       "    </tr>\n",
       "    <tr>\n",
       "      <td>...</td>\n",
       "      <td>...</td>\n",
       "      <td>...</td>\n",
       "      <td>...</td>\n",
       "    </tr>\n",
       "    <tr>\n",
       "      <td>109396</td>\n",
       "      <td>1248.0</td>\n",
       "      <td>0.0</td>\n",
       "      <td>1248.0</td>\n",
       "    </tr>\n",
       "    <tr>\n",
       "      <td>109791</td>\n",
       "      <td>1236.0</td>\n",
       "      <td>48.0</td>\n",
       "      <td>1284.0</td>\n",
       "    </tr>\n",
       "    <tr>\n",
       "      <td>131240</td>\n",
       "      <td>1464.0</td>\n",
       "      <td>0.0</td>\n",
       "      <td>1464.0</td>\n",
       "    </tr>\n",
       "    <tr>\n",
       "      <td>127940</td>\n",
       "      <td>1476.0</td>\n",
       "      <td>0.0</td>\n",
       "      <td>1476.0</td>\n",
       "    </tr>\n",
       "    <tr>\n",
       "      <td>305413</td>\n",
       "      <td>1496.0</td>\n",
       "      <td>0.0</td>\n",
       "      <td>1496.0</td>\n",
       "    </tr>\n",
       "  </tbody>\n",
       "</table>\n",
       "<p>14003 rows × 3 columns</p>\n",
       "</div>"
      ],
      "text/plain": [
       "           Rooms_used  Rooms_unused  Rooms_all\n",
       "school_id                                     \n",
       "120590            0.0           0.0        0.0\n",
       "130233            0.0           0.0        0.0\n",
       "131871            0.0           0.0        0.0\n",
       "128873            0.0           0.0        0.0\n",
       "125289            0.0           0.0        0.0\n",
       "...               ...           ...        ...\n",
       "109396         1248.0           0.0     1248.0\n",
       "109791         1236.0          48.0     1284.0\n",
       "131240         1464.0           0.0     1464.0\n",
       "127940         1476.0           0.0     1476.0\n",
       "305413         1496.0           0.0     1496.0\n",
       "\n",
       "[14003 rows x 3 columns]"
      ]
     },
     "execution_count": 52,
     "metadata": {},
     "output_type": "execute_result"
    }
   ],
   "source": [
    "sub_rooms = schools.groupby(\"school_id\")[\"Rooms_used\", \"Rooms_unused\"].sum()\n",
    "sub_rooms[\"Rooms_all\"] = sub_rooms[\"Rooms_used\"] + sub_rooms[\"Rooms_unused\"]\n",
    "sub_rooms.sort_values(by=\"Rooms_all\")"
   ]
  },
  {
   "cell_type": "markdown",
   "metadata": {},
   "source": [
    "10. Within the schools in Central Visayas, how many female enrollees do they have all in all?"
   ]
  },
  {
   "cell_type": "code",
   "execution_count": 69,
   "metadata": {},
   "outputs": [
    {
     "data": {
      "text/plain": [
       "222644"
      ]
     },
     "execution_count": 69,
     "metadata": {},
     "output_type": "execute_result"
    }
   ],
   "source": [
    "schools[(schools[\"region\"]==\"Region VII - Central Visayas\") & (schools[\"gender\"]==\"female\")][\"enrollment\"].sum()"
   ]
  },
  {
   "cell_type": "code",
   "execution_count": 61,
   "metadata": {},
   "outputs": [
    {
     "data": {
      "text/plain": [
       "Region VIII - Eastern Visayas                  22820\n",
       "Region VI - Western Visayas                    16760\n",
       "Region I - Ilocos Region                       16380\n",
       "Region IV-A - CALABARZON                       13568\n",
       "Region IX - Zamboanga Peninsula                13300\n",
       "Region III - Central Luzon                     12564\n",
       "Region V - Bicol Region                        12300\n",
       "CARAGA - CARAGA                                11388\n",
       "Region VII - Central Visayas                   10708\n",
       "Region XII - SOCCSKSARGEN                       8124\n",
       "Region XI - Davao Region                        6980\n",
       "Region IV-B - MIMAROPA                          4668\n",
       "Region II - Cagayan Valley                      4040\n",
       "Region X - Northern Mindanao                    2204\n",
       "NCR - National Capital Region                   1952\n",
       "Region XII - Soccsksargen                       1256\n",
       "CAR - Cordillera Administrative Region           368\n",
       "ARMM - Autonomous Region in Muslim Mindanao      364\n",
       "Name: region, dtype: int64"
      ]
     },
     "execution_count": 61,
     "metadata": {},
     "output_type": "execute_result"
    }
   ],
   "source": [
    "schools[\"region\"].value_counts()"
   ]
  },
  {
   "cell_type": "markdown",
   "metadata": {},
   "source": [
    "***Hard***"
   ]
  },
  {
   "cell_type": "markdown",
   "metadata": {},
   "source": [
    "11. How many secondary students are there overall?"
   ]
  },
  {
   "cell_type": "code",
   "execution_count": null,
   "metadata": {},
   "outputs": [],
   "source": []
  },
  {
   "cell_type": "markdown",
   "metadata": {},
   "source": [
    "12. Which school_id has the highest teacher-student ratio?"
   ]
  },
  {
   "cell_type": "code",
   "execution_count": 15,
   "metadata": {
    "scrolled": true
   },
   "outputs": [
    {
     "data": {
      "text/html": [
       "<div>\n",
       "<style scoped>\n",
       "    .dataframe tbody tr th:only-of-type {\n",
       "        vertical-align: middle;\n",
       "    }\n",
       "\n",
       "    .dataframe tbody tr th {\n",
       "        vertical-align: top;\n",
       "    }\n",
       "\n",
       "    .dataframe thead th {\n",
       "        text-align: right;\n",
       "    }\n",
       "</style>\n",
       "<table border=\"1\" class=\"dataframe\">\n",
       "  <thead>\n",
       "    <tr style=\"text-align: right;\">\n",
       "      <th></th>\n",
       "      <th>students</th>\n",
       "      <th>teacher</th>\n",
       "    </tr>\n",
       "    <tr>\n",
       "      <th>school_id</th>\n",
       "      <th></th>\n",
       "      <th></th>\n",
       "    </tr>\n",
       "  </thead>\n",
       "  <tbody>\n",
       "    <tr>\n",
       "      <td>100002</td>\n",
       "      <td>407</td>\n",
       "      <td>16</td>\n",
       "    </tr>\n",
       "    <tr>\n",
       "      <td>100003</td>\n",
       "      <td>152</td>\n",
       "      <td>6</td>\n",
       "    </tr>\n",
       "    <tr>\n",
       "      <td>100004</td>\n",
       "      <td>107</td>\n",
       "      <td>7</td>\n",
       "    </tr>\n",
       "    <tr>\n",
       "      <td>100005</td>\n",
       "      <td>67</td>\n",
       "      <td>7</td>\n",
       "    </tr>\n",
       "    <tr>\n",
       "      <td>100007</td>\n",
       "      <td>137</td>\n",
       "      <td>7</td>\n",
       "    </tr>\n",
       "    <tr>\n",
       "      <td>...</td>\n",
       "      <td>...</td>\n",
       "      <td>...</td>\n",
       "    </tr>\n",
       "    <tr>\n",
       "      <td>321504</td>\n",
       "      <td>615</td>\n",
       "      <td>13</td>\n",
       "    </tr>\n",
       "    <tr>\n",
       "      <td>321601</td>\n",
       "      <td>2832</td>\n",
       "      <td>16</td>\n",
       "    </tr>\n",
       "    <tr>\n",
       "      <td>322502</td>\n",
       "      <td>143</td>\n",
       "      <td>6</td>\n",
       "    </tr>\n",
       "    <tr>\n",
       "      <td>322503</td>\n",
       "      <td>130</td>\n",
       "      <td>8</td>\n",
       "    </tr>\n",
       "    <tr>\n",
       "      <td>322601</td>\n",
       "      <td>318</td>\n",
       "      <td>8</td>\n",
       "    </tr>\n",
       "  </tbody>\n",
       "</table>\n",
       "<p>14003 rows × 2 columns</p>\n",
       "</div>"
      ],
      "text/plain": [
       "           students  teacher\n",
       "school_id                   \n",
       "100002          407       16\n",
       "100003          152        6\n",
       "100004          107        7\n",
       "100005           67        7\n",
       "100007          137        7\n",
       "...             ...      ...\n",
       "321504          615       13\n",
       "321601         2832       16\n",
       "322502          143        6\n",
       "322503          130        8\n",
       "322601          318        8\n",
       "\n",
       "[14003 rows x 2 columns]"
      ]
     },
     "execution_count": 15,
     "metadata": {},
     "output_type": "execute_result"
    }
   ],
   "source": [
    "schools.groupby(\"school_id\")[\"enrollment\",\"Total_Inst\"].agg(students=(\"enrollment\", sum), \n",
    "                                                            teacher=(\"Total_Inst\", max))"
   ]
  }
 ],
 "metadata": {
  "kernelspec": {
   "display_name": "Python 3",
   "language": "python",
   "name": "python3"
  },
  "language_info": {
   "codemirror_mode": {
    "name": "ipython",
    "version": 3
   },
   "file_extension": ".py",
   "mimetype": "text/x-python",
   "name": "python",
   "nbconvert_exporter": "python",
   "pygments_lexer": "ipython3",
   "version": "3.7.4"
  }
 },
 "nbformat": 4,
 "nbformat_minor": 2
}
