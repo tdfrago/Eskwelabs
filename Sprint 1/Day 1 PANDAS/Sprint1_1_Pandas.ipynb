{
 "cells": [
  {
   "cell_type": "markdown",
   "metadata": {},
   "source": [
    "# Sprint 1 Day 1 - Data Wrangling"
   ]
  },
  {
   "cell_type": "markdown",
   "metadata": {},
   "source": [
    "*When you are working on data with Python, it makes sense to always begin by importing these packages.*"
   ]
  },
  {
   "cell_type": "code",
   "execution_count": null,
   "metadata": {
    "ExecuteTime": {
     "end_time": "2021-01-06T15:33:20.268410Z",
     "start_time": "2021-01-06T15:33:20.261574Z"
    }
   },
   "outputs": [],
   "source": [
    "import pandas as pd\n",
    "import numpy as np\n",
    "import matplotlib.pyplot as plt"
   ]
  },
  {
   "cell_type": "markdown",
   "metadata": {},
   "source": [
    "<table><td><img src='data:image/png;base64,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'></td><td><img src='data:image/png;base64,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'></td><tr><td colspan=2><img src='data:image/png;base64,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'></td></table>"
   ]
  },
  {
   "cell_type": "markdown",
   "metadata": {},
   "source": [
    "***NUMPY*** - \"The fundamental package for scientific computing with Python\"\n",
    "\n",
    "***PANDAS*** - \"A fast, powerful, flexible and easy to use open source data analysis and manipulation tool\"\n",
    "\n",
    "***Matplotlib*** - \"is a comprehensive library for creating static, animated, and interactive visualizations in Python\""
   ]
  },
  {
   "cell_type": "markdown",
   "metadata": {},
   "source": [
    "## 1. Reading data"
   ]
  },
  {
   "cell_type": "code",
   "execution_count": null,
   "metadata": {
    "ExecuteTime": {
     "end_time": "2021-01-06T16:32:48.985666Z",
     "start_time": "2021-01-06T16:32:48.853745Z"
    }
   },
   "outputs": [],
   "source": [
    "# Read data\n",
    "df = "
   ]
  },
  {
   "cell_type": "markdown",
   "metadata": {},
   "source": [
    "*Data obtained from: https://data.humdata.org/dataset/philippines-education-0-0* \n",
    "\n",
    "The most common source of simple data is csv or comma-separated values file. Pandas can read other file types as well such as:\n",
    "- read_excel\n",
    "- read_sql\n",
    "- read_json\n",
    "\n",
    "The read_csv accepts multiple arguments to read the file better by pressing shift+tab."
   ]
  },
  {
   "cell_type": "markdown",
   "metadata": {},
   "source": [
    "## 2. Checking the data"
   ]
  },
  {
   "cell_type": "markdown",
   "metadata": {},
   "source": [
    "### a. Standard checks\n",
    "How big is our dataset?"
   ]
  },
  {
   "cell_type": "code",
   "execution_count": null,
   "metadata": {
    "ExecuteTime": {
     "end_time": "2021-01-06T16:32:50.516743Z",
     "start_time": "2021-01-06T16:32:50.505590Z"
    }
   },
   "outputs": [],
   "source": [
    "# Check size of dataframe\n"
   ]
  },
  {
   "cell_type": "markdown",
   "metadata": {},
   "source": [
    "How does it look like?"
   ]
  },
  {
   "cell_type": "code",
   "execution_count": null,
   "metadata": {
    "ExecuteTime": {
     "end_time": "2021-01-06T16:32:51.507634Z",
     "start_time": "2021-01-06T16:32:51.474041Z"
    }
   },
   "outputs": [],
   "source": [
    "# Check first 5 rows\n"
   ]
  },
  {
   "cell_type": "markdown",
   "metadata": {},
   "source": [
    "Is it clean until the end?"
   ]
  },
  {
   "cell_type": "code",
   "execution_count": null,
   "metadata": {
    "ExecuteTime": {
     "end_time": "2021-01-06T15:40:43.039203Z",
     "start_time": "2021-01-06T15:40:43.011441Z"
    }
   },
   "outputs": [],
   "source": [
    "# Check last 5 rows\n"
   ]
  },
  {
   "cell_type": "markdown",
   "metadata": {},
   "source": [
    "What other information are available?"
   ]
  },
  {
   "cell_type": "code",
   "execution_count": null,
   "metadata": {
    "ExecuteTime": {
     "end_time": "2021-01-06T15:41:10.948265Z",
     "start_time": "2021-01-06T15:41:10.911819Z"
    }
   },
   "outputs": [],
   "source": [
    "# Check additional info\n"
   ]
  },
  {
   "cell_type": "markdown",
   "metadata": {},
   "source": [
    "What are the columns?"
   ]
  },
  {
   "cell_type": "code",
   "execution_count": null,
   "metadata": {
    "ExecuteTime": {
     "end_time": "2021-01-06T15:43:44.265437Z",
     "start_time": "2021-01-06T15:43:44.219981Z"
    }
   },
   "outputs": [],
   "source": [
    "# Check column names\n"
   ]
  },
  {
   "cell_type": "markdown",
   "metadata": {},
   "source": [
    "What are the data types?"
   ]
  },
  {
   "cell_type": "code",
   "execution_count": null,
   "metadata": {
    "ExecuteTime": {
     "end_time": "2021-01-06T15:44:03.258827Z",
     "start_time": "2021-01-06T15:44:03.201230Z"
    }
   },
   "outputs": [],
   "source": [
    "# Check data types\n"
   ]
  },
  {
   "cell_type": "markdown",
   "metadata": {},
   "source": [
    "### b. Checking for errors"
   ]
  },
  {
   "cell_type": "markdown",
   "metadata": {},
   "source": [
    "1. Check for missing values"
   ]
  },
  {
   "cell_type": "code",
   "execution_count": null,
   "metadata": {
    "ExecuteTime": {
     "end_time": "2021-01-06T15:22:37.414373Z",
     "start_time": "2021-01-06T15:22:37.390840Z"
    }
   },
   "outputs": [],
   "source": []
  },
  {
   "cell_type": "markdown",
   "metadata": {},
   "source": [
    "How do we handle missing values?"
   ]
  },
  {
   "cell_type": "markdown",
   "metadata": {},
   "source": [
    "2. Checking for duplicates"
   ]
  },
  {
   "cell_type": "code",
   "execution_count": null,
   "metadata": {
    "ExecuteTime": {
     "end_time": "2021-01-06T15:20:49.212809Z",
     "start_time": "2021-01-06T15:20:49.198032Z"
    }
   },
   "outputs": [],
   "source": [
    "df[\"ID\"].nunique()"
   ]
  },
  {
   "cell_type": "code",
   "execution_count": null,
   "metadata": {
    "ExecuteTime": {
     "end_time": "2021-01-06T15:21:09.356994Z",
     "start_time": "2021-01-06T15:21:09.308287Z"
    }
   },
   "outputs": [],
   "source": [
    "df[df[\"ID\"].duplicated(keep=False)].sort_values(by=\"ID\")"
   ]
  },
  {
   "cell_type": "markdown",
   "metadata": {},
   "source": [
    "## 3. Selecting data (Slicing)"
   ]
  },
  {
   "cell_type": "markdown",
   "metadata": {},
   "source": [
    "### a. Slicing by column name\n",
    "We can choose a column in a dataframe using the syntax `df[\"column_name\"]` or `df.column_name`"
   ]
  },
  {
   "cell_type": "code",
   "execution_count": null,
   "metadata": {},
   "outputs": [],
   "source": [
    "# Returns series\n"
   ]
  },
  {
   "cell_type": "code",
   "execution_count": null,
   "metadata": {
    "ExecuteTime": {
     "end_time": "2021-01-06T15:52:02.730961Z",
     "start_time": "2021-01-06T15:52:02.717786Z"
    }
   },
   "outputs": [],
   "source": [
    "# Another way of selecting column\n"
   ]
  },
  {
   "cell_type": "code",
   "execution_count": null,
   "metadata": {},
   "outputs": [],
   "source": [
    "# Returns dataframe\n"
   ]
  },
  {
   "cell_type": "markdown",
   "metadata": {},
   "source": [
    "To select more than one column, pass a list of column names."
   ]
  },
  {
   "cell_type": "code",
   "execution_count": null,
   "metadata": {
    "ExecuteTime": {
     "end_time": "2021-01-06T15:52:46.682442Z",
     "start_time": "2021-01-06T15:52:46.660746Z"
    }
   },
   "outputs": [],
   "source": [
    "df[[\"School\", \"ID\"]]"
   ]
  },
  {
   "cell_type": "markdown",
   "metadata": {},
   "source": [
    "### b. Slicing by position\n",
    "\n",
    "To obtain a subset of the dataframe using the position of rows or column, use `.iloc`"
   ]
  },
  {
   "cell_type": "code",
   "execution_count": null,
   "metadata": {},
   "outputs": [],
   "source": [
    "df.iloc[:10]"
   ]
  },
  {
   "cell_type": "code",
   "execution_count": null,
   "metadata": {},
   "outputs": [],
   "source": [
    "df.iloc[:, :3]"
   ]
  },
  {
   "cell_type": "code",
   "execution_count": null,
   "metadata": {
    "ExecuteTime": {
     "end_time": "2021-01-06T15:51:09.587471Z",
     "start_time": "2021-01-06T15:51:09.567350Z"
    }
   },
   "outputs": [],
   "source": [
    "df.iloc[:4, :5] # Get index 1 to 3 of the dataframe (start inclusive, end exclusive)"
   ]
  },
  {
   "cell_type": "markdown",
   "metadata": {},
   "source": [
    "#### Practice: Get the first 50 rows and the until Total_Inst column"
   ]
  },
  {
   "cell_type": "code",
   "execution_count": null,
   "metadata": {},
   "outputs": [],
   "source": [
    "# Insert code\n"
   ]
  },
  {
   "cell_type": "markdown",
   "metadata": {},
   "source": [
    "### c. Slicing by index name\n",
    "\n",
    "If you don't know the position by know the index you are looking for, you can use `.loc`."
   ]
  },
  {
   "cell_type": "code",
   "execution_count": null,
   "metadata": {},
   "outputs": [],
   "source": [
    "df.loc[10]"
   ]
  },
  {
   "cell_type": "code",
   "execution_count": null,
   "metadata": {
    "ExecuteTime": {
     "end_time": "2021-01-06T15:56:36.126761Z",
     "start_time": "2021-01-06T15:56:36.105721Z"
    }
   },
   "outputs": [],
   "source": [
    "df.loc[:10, :'School']"
   ]
  },
  {
   "cell_type": "markdown",
   "metadata": {},
   "source": [
    "## 4. Filtering"
   ]
  },
  {
   "cell_type": "markdown",
   "metadata": {},
   "source": [
    "Filtering allows you to select parts of the dataframe based on cell values."
   ]
  },
  {
   "cell_type": "code",
   "execution_count": null,
   "metadata": {},
   "outputs": [],
   "source": [
    "df[\"Region\"] == \"NCR\""
   ]
  },
  {
   "cell_type": "code",
   "execution_count": null,
   "metadata": {
    "ExecuteTime": {
     "end_time": "2021-01-06T16:04:57.071571Z",
     "start_time": "2021-01-06T16:04:56.930342Z"
    }
   },
   "outputs": [],
   "source": [
    "# Returns all rows that is TRUE\n"
   ]
  },
  {
   "cell_type": "markdown",
   "metadata": {},
   "source": [
    "You can use `&` and `|` to add more conditions"
   ]
  },
  {
   "cell_type": "code",
   "execution_count": null,
   "metadata": {
    "ExecuteTime": {
     "end_time": "2021-01-06T16:07:42.817298Z",
     "start_time": "2021-01-06T16:07:42.768068Z"
    }
   },
   "outputs": [],
   "source": [
    "df[(df[\"Region\"] == \"NCR\") & (df[\"Color_Code\"] == \"Blue\")]"
   ]
  },
  {
   "cell_type": "markdown",
   "metadata": {},
   "source": [
    "#### Practice: Get all schools that are Black color coded or have 0 teachers"
   ]
  },
  {
   "cell_type": "code",
   "execution_count": null,
   "metadata": {},
   "outputs": [],
   "source": [
    "# Insert code\n"
   ]
  },
  {
   "cell_type": "markdown",
   "metadata": {},
   "source": [
    "You can also use string methods such as `contains` to find items"
   ]
  },
  {
   "cell_type": "code",
   "execution_count": null,
   "metadata": {},
   "outputs": [],
   "source": [
    "# Applies boolean to all rows\n",
    "df[df[\"Municipali\"].str.contains(\"CITY\")]"
   ]
  },
  {
   "cell_type": "markdown",
   "metadata": {},
   "source": [
    "#### Practice: Get all schools that have ES in its name"
   ]
  },
  {
   "cell_type": "code",
   "execution_count": null,
   "metadata": {},
   "outputs": [],
   "source": [
    "# Insert code\n"
   ]
  },
  {
   "cell_type": "markdown",
   "metadata": {},
   "source": [
    "#### Practice: Get all schools that have ES in its name in NCR"
   ]
  },
  {
   "cell_type": "code",
   "execution_count": null,
   "metadata": {},
   "outputs": [],
   "source": [
    "# Insert code\n"
   ]
  },
  {
   "cell_type": "markdown",
   "metadata": {},
   "source": [
    "#### Practice: Get all schools that has greater than 2000 enrollees or is a Mother school"
   ]
  },
  {
   "cell_type": "code",
   "execution_count": null,
   "metadata": {},
   "outputs": [],
   "source": [
    "# Insert code\n"
   ]
  },
  {
   "cell_type": "markdown",
   "metadata": {},
   "source": [
    "## 5.   Grouping and Aggregation\n",
    "\n",
    "Grouping and aggregation are critical components of data analysis which involve:\n",
    "\n",
    "- **Splitting** data into groups based on some features.\n",
    "- **Applying** a function to each group independently.\n",
    "- **Combining** the result into data structure."
   ]
  },
  {
   "cell_type": "markdown",
   "metadata": {},
   "source": [
    "#### a. Value counts\n",
    "- specifies the number of entries per item in the column"
   ]
  },
  {
   "cell_type": "code",
   "execution_count": null,
   "metadata": {
    "ExecuteTime": {
     "end_time": "2021-01-06T16:38:31.913238Z",
     "start_time": "2021-01-06T16:38:31.888183Z"
    }
   },
   "outputs": [],
   "source": [
    "# Get number of entries\n"
   ]
  },
  {
   "cell_type": "markdown",
   "metadata": {},
   "source": [
    "- we can sort the results using `sort_values`"
   ]
  },
  {
   "cell_type": "code",
   "execution_count": null,
   "metadata": {},
   "outputs": [],
   "source": [
    "# Get number of entries sorted in ascending order\n"
   ]
  },
  {
   "cell_type": "markdown",
   "metadata": {},
   "source": [
    "- to sort in descending order, just add `ascending=False` as argument"
   ]
  },
  {
   "cell_type": "code",
   "execution_count": null,
   "metadata": {},
   "outputs": [],
   "source": [
    "# Get number of entries sorted in descending order\n",
    "\n"
   ]
  },
  {
   "cell_type": "markdown",
   "metadata": {},
   "source": [
    "#### b. Groupby"
   ]
  },
  {
   "cell_type": "markdown",
   "metadata": {},
   "source": [
    "- `.size` returns the count of rows\n",
    "- It can also accept multiple columns"
   ]
  },
  {
   "cell_type": "code",
   "execution_count": null,
   "metadata": {
    "ExecuteTime": {
     "end_time": "2021-01-06T16:16:37.667970Z",
     "start_time": "2021-01-06T16:16:37.643995Z"
    }
   },
   "outputs": [],
   "source": [
    "df.groupby([\"Region\"]).size()"
   ]
  },
  {
   "cell_type": "markdown",
   "metadata": {},
   "source": [
    "How many schools per color for each region?"
   ]
  },
  {
   "cell_type": "code",
   "execution_count": null,
   "metadata": {},
   "outputs": [],
   "source": [
    "df.groupby([\"Region\", \"Color_Code\"]).size()"
   ]
  },
  {
   "cell_type": "markdown",
   "metadata": {},
   "source": [
    "We can apply another column in brackets after groupby to indicate which column to aggregate."
   ]
  },
  {
   "cell_type": "code",
   "execution_count": null,
   "metadata": {
    "ExecuteTime": {
     "end_time": "2021-01-06T16:09:42.566693Z",
     "start_time": "2021-01-06T16:09:42.542592Z"
    }
   },
   "outputs": [],
   "source": [
    "df.groupby(\"Region\")[\"Total_Enro\"].sum()"
   ]
  },
  {
   "cell_type": "markdown",
   "metadata": {},
   "source": [
    "#### Practice: Group the sum of count of teachers based on color code"
   ]
  },
  {
   "cell_type": "code",
   "execution_count": null,
   "metadata": {},
   "outputs": [],
   "source": [
    "# Insert code here\n"
   ]
  },
  {
   "cell_type": "markdown",
   "metadata": {},
   "source": [
    "We can have multiple columns to aggregate. These columns can either be aggregated with the same function or with different functions."
   ]
  },
  {
   "cell_type": "code",
   "execution_count": null,
   "metadata": {
    "ExecuteTime": {
     "end_time": "2021-01-06T16:16:50.979446Z",
     "start_time": "2021-01-06T16:16:50.947548Z"
    }
   },
   "outputs": [],
   "source": [
    "df.groupby([\"Region\"])[[\"Total_Enro\", \"Total_Inst\"]].sum()"
   ]
  },
  {
   "cell_type": "markdown",
   "metadata": {},
   "source": [
    "Now that we have two coloumns, if we wish to sort them, we need to add `by` as an argument in sort_values"
   ]
  },
  {
   "cell_type": "code",
   "execution_count": null,
   "metadata": {},
   "outputs": [],
   "source": [
    "df.groupby([\"Region\"])[[\"Total_Enro\", \"Total_Inst\"]].sum().sort_values(by=\"Total_Enro\")"
   ]
  },
  {
   "cell_type": "markdown",
   "metadata": {},
   "source": [
    "the aggregated funtion uses the syntax: \n",
    "`.agg(new_column_name=(old_column_name, function))`"
   ]
  },
  {
   "cell_type": "code",
   "execution_count": null,
   "metadata": {},
   "outputs": [],
   "source": [
    "df.groupby([\"Region\"])[[\"Total_Enro\", \"Total_Inst\"]].agg(Enrolled=(\"Total_Enro\", sum), Teacher=(\"Total_Inst\", max))"
   ]
  },
  {
   "cell_type": "markdown",
   "metadata": {},
   "source": [
    "## Exercise"
   ]
  },
  {
   "cell_type": "markdown",
   "metadata": {},
   "source": [
    "Answer the following:"
   ]
  },
  {
   "cell_type": "markdown",
   "metadata": {},
   "source": [
    "1. Which division has the most number of schools?"
   ]
  },
  {
   "cell_type": "code",
   "execution_count": null,
   "metadata": {},
   "outputs": [],
   "source": [
    "# Insert code here\n"
   ]
  },
  {
   "cell_type": "markdown",
   "metadata": {},
   "source": [
    "2. Which school has the fewest number of enrolles and which province does this school belong to?"
   ]
  },
  {
   "cell_type": "code",
   "execution_count": null,
   "metadata": {},
   "outputs": [],
   "source": [
    "# Insert code here\n"
   ]
  },
  {
   "cell_type": "markdown",
   "metadata": {},
   "source": [
    "3. Among the schools in ARMM, which municipality has the fewest total number of teachers?"
   ]
  },
  {
   "cell_type": "code",
   "execution_count": null,
   "metadata": {},
   "outputs": [],
   "source": [
    "# Insert code here\n"
   ]
  },
  {
   "cell_type": "code",
   "execution_count": null,
   "metadata": {},
   "outputs": [],
   "source": []
  }
 ],
 "metadata": {
  "kernelspec": {
   "display_name": "Python 3",
   "language": "python",
   "name": "python3"
  },
  "language_info": {
   "codemirror_mode": {
    "name": "ipython",
    "version": 3
   },
   "file_extension": ".py",
   "mimetype": "text/x-python",
   "name": "python",
   "nbconvert_exporter": "python",
   "pygments_lexer": "ipython3",
   "version": "3.7.4"
  }
 },
 "nbformat": 4,
 "nbformat_minor": 2
}
