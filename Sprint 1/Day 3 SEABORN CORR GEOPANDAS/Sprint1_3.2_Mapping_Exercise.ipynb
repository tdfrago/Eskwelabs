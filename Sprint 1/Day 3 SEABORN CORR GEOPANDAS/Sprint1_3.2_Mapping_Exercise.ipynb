{
 "cells": [
  {
   "cell_type": "markdown",
   "metadata": {},
   "source": [
    "# Mapping"
   ]
  },
  {
   "cell_type": "markdown",
   "metadata": {},
   "source": [
    "Creating maps is a fun and informative way of handling geospatial data. In this notebook, we will explore basic techniques in mapping with Python."
   ]
  },
  {
   "cell_type": "markdown",
   "metadata": {},
   "source": [
    "## A. Geopandas\n",
    "\n",
    "GeoPandas is an open source project to make working with geospatial data in python easier. GeoPandas extends the datatypes used by pandas to allow spatial operations on geometric types.\n",
    "\n",
    "To use geopandas, import the library first"
   ]
  },
  {
   "cell_type": "code",
   "execution_count": null,
   "metadata": {},
   "outputs": [],
   "source": [
    "import pandas as pd\n",
    "import numpy as np\n",
    "import matplotlib.pyplot as plt\n",
    "import geopandas as gpd"
   ]
  },
  {
   "cell_type": "markdown",
   "metadata": {},
   "source": [
    "Geopandas allows you to read different map file formats such as shapefiles (shp). Geospatial data always have a column that contains coordinates. In this data, it is the `geometry` column. Load the data to check. "
   ]
  },
  {
   "cell_type": "code",
   "execution_count": null,
   "metadata": {},
   "outputs": [],
   "source": [
    "# Import the data\n",
    "schools = gpd.read_file('./phl_schp_deped/phl_schp_deped.shp')\n",
    "schools.head()"
   ]
  },
  {
   "cell_type": "markdown",
   "metadata": {},
   "source": [
    "When working with geospatial data, although the data looks very similar, the data type is in fact different than the usual DataFrame. "
   ]
  },
  {
   "cell_type": "code",
   "execution_count": null,
   "metadata": {},
   "outputs": [],
   "source": [
    "type(schools)"
   ]
  },
  {
   "cell_type": "markdown",
   "metadata": {},
   "source": [
    "In some shapefiles, the longitude and latitude are already separated. In this case, however, we would still need to separate it using the centroid function."
   ]
  },
  {
   "cell_type": "code",
   "execution_count": null,
   "metadata": {},
   "outputs": [],
   "source": [
    "schools[\"x\"] = schools.geometry.centroid.x\n",
    "schools[\"y\"] = schools.geometry.centroid.y\n",
    "\n",
    "schools.head()"
   ]
  },
  {
   "cell_type": "markdown",
   "metadata": {},
   "source": [
    "If you noticed in our previous dataframe, we have points per row. If we want to create a heatmap, we would need the boundaries of the areas of interested. In this case, we would need a polygon. Load another shapefile containg polygon for provinces in the Philippines."
   ]
  },
  {
   "cell_type": "code",
   "execution_count": null,
   "metadata": {},
   "outputs": [],
   "source": [
    "# Complete the code\n",
    "shapefile = \n",
    "shapefile.head()"
   ]
  },
  {
   "cell_type": "markdown",
   "metadata": {},
   "source": [
    "If you plot this dataframe, you will see the shape of the Philippines with the buondaries of each province."
   ]
  },
  {
   "cell_type": "code",
   "execution_count": null,
   "metadata": {},
   "outputs": [],
   "source": [
    "shapefile.plot()"
   ]
  },
  {
   "cell_type": "markdown",
   "metadata": {},
   "source": [
    "Our map is now ready! Let's try to add information to it. To do this, our goal is to be able to merge the two datasets. And since we want to create a heatmap by province, it makes sense to merge them using the province name"
   ]
  },
  {
   "cell_type": "code",
   "execution_count": null,
   "metadata": {},
   "outputs": [],
   "source": [
    "# Check province\n",
    "print('schools df:\\n', sorted(schools[\"Province\"].unique()), '\\n')\n",
    "print('shapefile df:\\n', sorted(shapefile[\"PROVINCE\"].unique()))"
   ]
  },
  {
   "cell_type": "markdown",
   "metadata": {},
   "source": [
    "As expected, when working with names, there will always be cleaning to do. We have prepared the codes below to clean the data for you."
   ]
  },
  {
   "cell_type": "code",
   "execution_count": null,
   "metadata": {},
   "outputs": [],
   "source": [
    "# Create dictionry of those with discrepancy\n",
    "province_dic = {'CITY OF COTABATO':'Maguindanao',\n",
    " 'Manila, Ncr, First District':\"Metropolitan Manila\",\n",
    " 'Ncr Fourth District':\"Metropolitan Manila\",\n",
    " 'Ncr Second District':\"Metropolitan Manila\",\n",
    " 'Ncr Third District':\"Metropolitan Manila\",\n",
    " 'Western Sama':\"Samar\"}"
   ]
  },
  {
   "cell_type": "code",
   "execution_count": null,
   "metadata": {},
   "outputs": [],
   "source": [
    "# Replace province name\n",
    "schools[\"Province\"] = schools[\"Province\"].str.title().replace(province_dic).str.replace(\"Del\", 'del')\n",
    "print(sorted(schools[\"Province\"].unique()))"
   ]
  },
  {
   "cell_type": "code",
   "execution_count": null,
   "metadata": {},
   "outputs": [],
   "source": [
    "province_data = schools.groupby(\"Province\")[\"Total_Enro\", \"Total_Inst\"].sum().reset_index()\n",
    "province_data"
   ]
  },
  {
   "cell_type": "markdown",
   "metadata": {},
   "source": [
    "Now that the data is clean, we can merge them together. "
   ]
  },
  {
   "cell_type": "code",
   "execution_count": null,
   "metadata": {},
   "outputs": [],
   "source": [
    "# Complete the code\n",
    "merged_data = \n",
    "merged_data"
   ]
  },
  {
   "cell_type": "markdown",
   "metadata": {},
   "source": [
    "Once you have the final dataframe, plotting in geopandas is easy. You simply need to add arguments to change the colors."
   ]
  },
  {
   "cell_type": "code",
   "execution_count": null,
   "metadata": {},
   "outputs": [],
   "source": [
    "# set a variable that will call whatever column we want to visualise on the map\n",
    "variable = 'Total_Enro'\n",
    "# set the range for the choropleth\n",
    "vmin, vmax = merged_data[\"Total_Enro\"].min(), merged_data[\"Total_Enro\"].max()\n",
    "# create figure and axes for Matplotlib\n",
    "fig, ax = plt.subplots(1, figsize=(15, 10))\n",
    "\n",
    "# Complete the code\n",
    "merged_data.plot(column=variable, cmap='Oranges', linewidth=0.8, ax=ax, edgecolor='0.8', vmin=vmin, vmax=vmax)\n",
    "\n",
    "sm = plt.cm.ScalarMappable(cmap='Oranges', norm=plt.Normalize(vmin=vmin, vmax=vmax))\n",
    "sm._A = []\n",
    "cbar = fig.colorbar(sm)"
   ]
  },
  {
   "cell_type": "code",
   "execution_count": null,
   "metadata": {},
   "outputs": [],
   "source": [
    "merged_data[\"st_ratio\"] = merged_data[\"Total_Enro\"]/merged_data[\"Total_Inst\"]"
   ]
  },
  {
   "cell_type": "code",
   "execution_count": null,
   "metadata": {},
   "outputs": [],
   "source": [
    "# Complete the code\n",
    "\n",
    "# set a variable that will call whatever column we want to visualise on the map\n",
    "variable = \n",
    "# set the range for the choropleth\n",
    "vmin, vmax = \n",
    "# create figure and axes for Matplotlib\n",
    "fig, ax = plt.subplots(1, figsize=(15, 10))\n",
    "\n",
    "____.plot()\n",
    "\n",
    "sm = \n",
    "sm._A = []\n",
    "cbar = fig.colorbar(sm)"
   ]
  },
  {
   "cell_type": "markdown",
   "metadata": {},
   "source": [
    "## Folium\n",
    "\n",
    "Folium makes it easy to visualize data that’s been manipulated in Python on an interactive leaflet map.\n",
    "\n",
    "Again, let's import the library first."
   ]
  },
  {
   "cell_type": "code",
   "execution_count": null,
   "metadata": {},
   "outputs": [],
   "source": [
    "import folium"
   ]
  },
  {
   "cell_type": "markdown",
   "metadata": {},
   "source": [
    "An interesting feature of folium is that it already has maps built-in the package. When you type, `folium.Map`, it will prepare for you a basemap that you can edit."
   ]
  },
  {
   "cell_type": "code",
   "execution_count": null,
   "metadata": {},
   "outputs": [],
   "source": [
    "# Coordinates to show\n",
    "map_center = [14.583197, 121.051538]\n",
    "\n",
    "# Styling the map\n",
    "mymap = folium.Map(location=map_center, height=700, width=1000, tiles=\"OpenStreetMap\", zoom_start=14)\n",
    "mymap"
   ]
  },
  {
   "cell_type": "markdown",
   "metadata": {},
   "source": [
    "To add points to the map, simple use `folium.Marker` and `.add_to()`"
   ]
  },
  {
   "cell_type": "code",
   "execution_count": null,
   "metadata": {},
   "outputs": [],
   "source": [
    "# Coordinate of point\n",
    "marker_coords = [14.583197, 121.051538]\n",
    "\n",
    "# Overlay point in map\n",
    "folium.Marker(marker_coords).add_to(mymap)\n",
    "mymap"
   ]
  },
  {
   "cell_type": "markdown",
   "metadata": {},
   "source": [
    "Let's explore adding more than one point. Let's try to plot all the schools in Quezon City. To do so, let's get a subset containing only schools in Quezon City.\n",
    "\n",
    "***Be careful though! Adding too many points can crash your notebook***"
   ]
  },
  {
   "cell_type": "code",
   "execution_count": null,
   "metadata": {},
   "outputs": [],
   "source": [
    "city = \"Quezon City\"\n",
    "\n",
    "df_city = schools[schools[\"Division\"]==city]\n",
    "df_city"
   ]
  },
  {
   "cell_type": "markdown",
   "metadata": {},
   "source": [
    "Now that we have this subset, we just need to loop the values inside it and add it to the map one by one."
   ]
  },
  {
   "cell_type": "code",
   "execution_count": null,
   "metadata": {},
   "outputs": [],
   "source": [
    "# Complete the code\n",
    "\n",
    "for i in np.arange(len(df_city)):\n",
    "    lat = df_city[\"y\"].values[i]\n",
    "    lon = df_city[\"x\"].values[i]\n",
    "    name = df_city[\"School\"].values[i]\n",
    "    folium.Marker([_____ popup=_____)._________\n",
    "    \n",
    "mymap"
   ]
  },
  {
   "cell_type": "markdown",
   "metadata": {},
   "source": [
    "When we have multiple points, there is a tendency for them to overlap depending on your zoom level. One way to handle this is to cluster the points together. You can import `MarkerCluster` for this."
   ]
  },
  {
   "cell_type": "code",
   "execution_count": null,
   "metadata": {},
   "outputs": [],
   "source": [
    "from folium.plugins import MarkerCluster\n",
    "mymap_cluster = folium.Map(location=map_center, height=700, width=1000, tiles=\"OpenStreetMap\", zoom_start=13)\n",
    "marker_cluster = MarkerCluster().add_to(mymap_cluster)"
   ]
  },
  {
   "cell_type": "markdown",
   "metadata": {},
   "source": [
    "The syntax for cluster is very similar to the previous map. However, instead of adding it to the map directly, we add it to the `MarkerCluster` variable."
   ]
  },
  {
   "cell_type": "code",
   "execution_count": null,
   "metadata": {},
   "outputs": [],
   "source": [
    "# Complete the code\n",
    "\n",
    "for i in np.arange(len(df_city)):\n",
    "    lat = df_city[\"y\"].values[i]\n",
    "    lon = df_city[\"x\"].values[i]\n",
    "    name = df_city[\"School\"].values[i]\n",
    "    ____________________________________\n",
    "    \n",
    "mymap_cluster"
   ]
  },
  {
   "cell_type": "markdown",
   "metadata": {},
   "source": [
    "There you have it! Try to do the same but for another city."
   ]
  },
  {
   "cell_type": "code",
   "execution_count": null,
   "metadata": {},
   "outputs": [],
   "source": []
  }
 ],
 "metadata": {
  "kernelspec": {
   "display_name": "Python 3",
   "language": "python",
   "name": "python3"
  },
  "language_info": {
   "codemirror_mode": {
    "name": "ipython",
    "version": 3
   },
   "file_extension": ".py",
   "mimetype": "text/x-python",
   "name": "python",
   "nbconvert_exporter": "python",
   "pygments_lexer": "ipython3",
   "version": "3.7.4"
  }
 },
 "nbformat": 4,
 "nbformat_minor": 2
}
